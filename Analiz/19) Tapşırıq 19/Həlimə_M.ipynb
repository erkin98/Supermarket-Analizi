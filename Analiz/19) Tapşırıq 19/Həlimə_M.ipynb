{
 "cells": [
  {
   "cell_type": "markdown",
   "metadata": {},
   "source": [
    "# Tapşırıq 19.\n",
    "\n",
    "## Endirim kampaniyaları çərçivəsində hansı məhsul kateqoriyası liderlik edib? Zəhmət olmasa, hər bir kampaniya üçün ayrılıqda olmaqla məsələni həll edin"
   ]
  },
  {
   "cell_type": "code",
   "execution_count": 1,
   "metadata": {},
   "outputs": [],
   "source": [
    "import pandas as pd"
   ]
  },
  {
   "cell_type": "code",
   "execution_count": 2,
   "metadata": {},
   "outputs": [
    {
     "data": {
      "text/html": [
       "<div>\n",
       "<style scoped>\n",
       "    .dataframe tbody tr th:only-of-type {\n",
       "        vertical-align: middle;\n",
       "    }\n",
       "\n",
       "    .dataframe tbody tr th {\n",
       "        vertical-align: top;\n",
       "    }\n",
       "\n",
       "    .dataframe thead th {\n",
       "        text-align: right;\n",
       "    }\n",
       "</style>\n",
       "<table border=\"1\" class=\"dataframe\">\n",
       "  <thead>\n",
       "    <tr style=\"text-align: right;\">\n",
       "      <th></th>\n",
       "      <th>column_a</th>\n",
       "      <th>satish_kodu</th>\n",
       "      <th>mehsul_kodu</th>\n",
       "      <th>mehsul_ad</th>\n",
       "      <th>mehsul_kateqoriya</th>\n",
       "      <th>mehsul_qiymet</th>\n",
       "      <th>satish_tarixi</th>\n",
       "      <th>endirim_kompaniya</th>\n",
       "      <th>bonus_kart</th>\n",
       "      <th>magaza_ad</th>\n",
       "      <th>magaza_lat</th>\n",
       "      <th>magaza_long</th>\n",
       "      <th>magaza_location</th>\n",
       "    </tr>\n",
       "  </thead>\n",
       "  <tbody>\n",
       "    <tr>\n",
       "      <th>0</th>\n",
       "      <td>0</td>\n",
       "      <td>577571</td>\n",
       "      <td>3334</td>\n",
       "      <td>GONDOL SIMPLE LABABO VE BUZLUK HALISI G61*50</td>\n",
       "      <td>Məişət məhsulları</td>\n",
       "      <td>3.68</td>\n",
       "      <td>2019-07-19T12:29:00</td>\n",
       "      <td>Sərin Yay günləri</td>\n",
       "      <td>True</td>\n",
       "      <td>Zabrat</td>\n",
       "      <td>40.485561</td>\n",
       "      <td>49.946741</td>\n",
       "      <td>POINT(49.9467409 40.4855613)</td>\n",
       "    </tr>\n",
       "    <tr>\n",
       "      <th>1</th>\n",
       "      <td>1</td>\n",
       "      <td>577571</td>\n",
       "      <td>4674</td>\n",
       "      <td>TAXTA BICAQ 3232</td>\n",
       "      <td>Qab-qacaq</td>\n",
       "      <td>2.25</td>\n",
       "      <td>2019-07-19T12:29:00</td>\n",
       "      <td>Sərin Yay günləri</td>\n",
       "      <td>True</td>\n",
       "      <td>Zabrat</td>\n",
       "      <td>40.485561</td>\n",
       "      <td>49.946741</td>\n",
       "      <td>POINT(49.9467409 40.4855613)</td>\n",
       "    </tr>\n",
       "    <tr>\n",
       "      <th>2</th>\n",
       "      <td>2</td>\n",
       "      <td>577571</td>\n",
       "      <td>8388</td>\n",
       "      <td>VITA 1LT ANANAS SIRESI</td>\n",
       "      <td>Meyvə Şirələri</td>\n",
       "      <td>2.50</td>\n",
       "      <td>2019-07-19T12:29:00</td>\n",
       "      <td>Sərin Yay günləri</td>\n",
       "      <td>True</td>\n",
       "      <td>Zabrat</td>\n",
       "      <td>40.485561</td>\n",
       "      <td>49.946741</td>\n",
       "      <td>POINT(49.9467409 40.4855613)</td>\n",
       "    </tr>\n",
       "    <tr>\n",
       "      <th>3</th>\n",
       "      <td>3</td>\n",
       "      <td>577571</td>\n",
       "      <td>6017</td>\n",
       "      <td>GILAN BAGDAN 1LT SARI GAVALI KOMPOTU</td>\n",
       "      <td>Kompotlar</td>\n",
       "      <td>1.45</td>\n",
       "      <td>2019-07-19T12:29:00</td>\n",
       "      <td>Sərin Yay günləri</td>\n",
       "      <td>True</td>\n",
       "      <td>Zabrat</td>\n",
       "      <td>40.485561</td>\n",
       "      <td>49.946741</td>\n",
       "      <td>POINT(49.9467409 40.4855613)</td>\n",
       "    </tr>\n",
       "    <tr>\n",
       "      <th>4</th>\n",
       "      <td>4</td>\n",
       "      <td>577571</td>\n",
       "      <td>8297</td>\n",
       "      <td>OSRAM SUPERSTAR LAMPA 64544A ECO 57W E27</td>\n",
       "      <td>Məişət məhsulları</td>\n",
       "      <td>2.92</td>\n",
       "      <td>2019-07-19T12:29:00</td>\n",
       "      <td>Sərin Yay günləri</td>\n",
       "      <td>True</td>\n",
       "      <td>Zabrat</td>\n",
       "      <td>40.485561</td>\n",
       "      <td>49.946741</td>\n",
       "      <td>POINT(49.9467409 40.4855613)</td>\n",
       "    </tr>\n",
       "  </tbody>\n",
       "</table>\n",
       "</div>"
      ],
      "text/plain": [
       "   column_a  satish_kodu  mehsul_kodu  \\\n",
       "0         0       577571         3334   \n",
       "1         1       577571         4674   \n",
       "2         2       577571         8388   \n",
       "3         3       577571         6017   \n",
       "4         4       577571         8297   \n",
       "\n",
       "                                      mehsul_ad  mehsul_kateqoriya  \\\n",
       "0  GONDOL SIMPLE LABABO VE BUZLUK HALISI G61*50  Məişət məhsulları   \n",
       "1                              TAXTA BICAQ 3232          Qab-qacaq   \n",
       "2                        VITA 1LT ANANAS SIRESI     Meyvə Şirələri   \n",
       "3          GILAN BAGDAN 1LT SARI GAVALI KOMPOTU          Kompotlar   \n",
       "4      OSRAM SUPERSTAR LAMPA 64544A ECO 57W E27  Məişət məhsulları   \n",
       "\n",
       "   mehsul_qiymet        satish_tarixi  endirim_kompaniya  bonus_kart  \\\n",
       "0           3.68  2019-07-19T12:29:00  Sərin Yay günləri        True   \n",
       "1           2.25  2019-07-19T12:29:00  Sərin Yay günləri        True   \n",
       "2           2.50  2019-07-19T12:29:00  Sərin Yay günləri        True   \n",
       "3           1.45  2019-07-19T12:29:00  Sərin Yay günləri        True   \n",
       "4           2.92  2019-07-19T12:29:00  Sərin Yay günləri        True   \n",
       "\n",
       "  magaza_ad  magaza_lat  magaza_long               magaza_location  \n",
       "0    Zabrat   40.485561    49.946741  POINT(49.9467409 40.4855613)  \n",
       "1    Zabrat   40.485561    49.946741  POINT(49.9467409 40.4855613)  \n",
       "2    Zabrat   40.485561    49.946741  POINT(49.9467409 40.4855613)  \n",
       "3    Zabrat   40.485561    49.946741  POINT(49.9467409 40.4855613)  \n",
       "4    Zabrat   40.485561    49.946741  POINT(49.9467409 40.4855613)  "
      ]
     },
     "execution_count": 2,
     "metadata": {},
     "output_type": "execute_result"
    }
   ],
   "source": [
    "data = pd.read_csv(\"esas_mehsullar.csv\")\n",
    "df = data.copy()\n",
    "df.head()"
   ]
  },
  {
   "cell_type": "code",
   "execution_count": 3,
   "metadata": {},
   "outputs": [
    {
     "data": {
      "text/plain": [
       "array(['Sərin Yay günləri', nan, 'Yeni il fürsətləri',\n",
       "       'Payız endirimləri', 'S?rf?li Yaz', 'Bərəkətli Novruz'],\n",
       "      dtype=object)"
      ]
     },
     "execution_count": 3,
     "metadata": {},
     "output_type": "execute_result"
    }
   ],
   "source": [
    "df[\"endirim_kompaniya\"].unique()"
   ]
  },
  {
   "cell_type": "code",
   "execution_count": 4,
   "metadata": {},
   "outputs": [],
   "source": [
    "df[\"endirim_kompaniya\"] = df[\"endirim_kompaniya\"].transform(lambda x: x.replace(\"S?rf?li Yaz\", \"Sərfəli Yaz\"))"
   ]
  },
  {
   "cell_type": "code",
   "execution_count": 5,
   "metadata": {},
   "outputs": [
    {
     "data": {
      "text/plain": [
       "array(['Sərin Yay günləri', nan, 'Yeni il fürsətləri',\n",
       "       'Payız endirimləri', 'Sərfəli Yaz', 'Bərəkətli Novruz'],\n",
       "      dtype=object)"
      ]
     },
     "execution_count": 5,
     "metadata": {},
     "output_type": "execute_result"
    }
   ],
   "source": [
    "df[\"endirim_kompaniya\"].unique()"
   ]
  },
  {
   "cell_type": "code",
   "execution_count": 6,
   "metadata": {},
   "outputs": [],
   "source": [
    "# hər bir endirim kompaniyası üzrə ən çox satılan məhsul kateqoriyası\n",
    "\n",
    "kateqoriya = df.groupby(\"endirim_kompaniya\")[\"mehsul_kateqoriya\"].apply(lambda x: x.value_counts().nlargest(1)).to_frame()"
   ]
  },
  {
   "cell_type": "code",
   "execution_count": 7,
   "metadata": {},
   "outputs": [
    {
     "data": {
      "text/html": [
       "<div>\n",
       "<style scoped>\n",
       "    .dataframe tbody tr th:only-of-type {\n",
       "        vertical-align: middle;\n",
       "    }\n",
       "\n",
       "    .dataframe tbody tr th {\n",
       "        vertical-align: top;\n",
       "    }\n",
       "\n",
       "    .dataframe thead th {\n",
       "        text-align: right;\n",
       "    }\n",
       "</style>\n",
       "<table border=\"1\" class=\"dataframe\">\n",
       "  <thead>\n",
       "    <tr style=\"text-align: right;\">\n",
       "      <th></th>\n",
       "      <th></th>\n",
       "      <th>mehsul_kateqoriya</th>\n",
       "    </tr>\n",
       "    <tr>\n",
       "      <th>endirim_kompaniya</th>\n",
       "      <th></th>\n",
       "      <th></th>\n",
       "    </tr>\n",
       "  </thead>\n",
       "  <tbody>\n",
       "    <tr>\n",
       "      <th>Bərəkətli Novruz</th>\n",
       "      <th>Şirniyyat</th>\n",
       "      <td>8464</td>\n",
       "    </tr>\n",
       "    <tr>\n",
       "      <th>Payız endirimləri</th>\n",
       "      <th>Şirniyyat</th>\n",
       "      <td>8150</td>\n",
       "    </tr>\n",
       "    <tr>\n",
       "      <th>Sərfəli Yaz</th>\n",
       "      <th>Şirniyyat</th>\n",
       "      <td>8524</td>\n",
       "    </tr>\n",
       "    <tr>\n",
       "      <th>Sərin Yay günləri</th>\n",
       "      <th>Şirniyyat</th>\n",
       "      <td>16480</td>\n",
       "    </tr>\n",
       "    <tr>\n",
       "      <th>Yeni il fürsətləri</th>\n",
       "      <th>Şirniyyat</th>\n",
       "      <td>8203</td>\n",
       "    </tr>\n",
       "  </tbody>\n",
       "</table>\n",
       "</div>"
      ],
      "text/plain": [
       "                              mehsul_kateqoriya\n",
       "endirim_kompaniya                              \n",
       "Bərəkətli Novruz   Şirniyyat               8464\n",
       "Payız endirimləri  Şirniyyat               8150\n",
       "Sərfəli Yaz        Şirniyyat               8524\n",
       "Sərin Yay günləri  Şirniyyat              16480\n",
       "Yeni il fürsətləri Şirniyyat               8203"
      ]
     },
     "execution_count": 7,
     "metadata": {},
     "output_type": "execute_result"
    }
   ],
   "source": [
    "kateqoriya"
   ]
  },
  {
   "cell_type": "code",
   "execution_count": 8,
   "metadata": {},
   "outputs": [
    {
     "data": {
      "text/html": [
       "<div>\n",
       "<style scoped>\n",
       "    .dataframe tbody tr th:only-of-type {\n",
       "        vertical-align: middle;\n",
       "    }\n",
       "\n",
       "    .dataframe tbody tr th {\n",
       "        vertical-align: top;\n",
       "    }\n",
       "\n",
       "    .dataframe thead th {\n",
       "        text-align: right;\n",
       "    }\n",
       "</style>\n",
       "<table border=\"1\" class=\"dataframe\">\n",
       "  <thead>\n",
       "    <tr style=\"text-align: right;\">\n",
       "      <th></th>\n",
       "      <th>endirim_kompaniya</th>\n",
       "      <th>mehsul_kateqoriya</th>\n",
       "      <th>satish_sayi</th>\n",
       "    </tr>\n",
       "  </thead>\n",
       "  <tbody>\n",
       "    <tr>\n",
       "      <th>0</th>\n",
       "      <td>Bərəkətli Novruz</td>\n",
       "      <td>Şirniyyat</td>\n",
       "      <td>8464</td>\n",
       "    </tr>\n",
       "    <tr>\n",
       "      <th>1</th>\n",
       "      <td>Payız endirimləri</td>\n",
       "      <td>Şirniyyat</td>\n",
       "      <td>8150</td>\n",
       "    </tr>\n",
       "    <tr>\n",
       "      <th>2</th>\n",
       "      <td>Sərfəli Yaz</td>\n",
       "      <td>Şirniyyat</td>\n",
       "      <td>8524</td>\n",
       "    </tr>\n",
       "    <tr>\n",
       "      <th>3</th>\n",
       "      <td>Sərin Yay günləri</td>\n",
       "      <td>Şirniyyat</td>\n",
       "      <td>16480</td>\n",
       "    </tr>\n",
       "    <tr>\n",
       "      <th>4</th>\n",
       "      <td>Yeni il fürsətləri</td>\n",
       "      <td>Şirniyyat</td>\n",
       "      <td>8203</td>\n",
       "    </tr>\n",
       "  </tbody>\n",
       "</table>\n",
       "</div>"
      ],
      "text/plain": [
       "    endirim_kompaniya mehsul_kateqoriya  satish_sayi\n",
       "0    Bərəkətli Novruz         Şirniyyat         8464\n",
       "1   Payız endirimləri         Şirniyyat         8150\n",
       "2         Sərfəli Yaz         Şirniyyat         8524\n",
       "3   Sərin Yay günləri         Şirniyyat        16480\n",
       "4  Yeni il fürsətləri         Şirniyyat         8203"
      ]
     },
     "execution_count": 8,
     "metadata": {},
     "output_type": "execute_result"
    }
   ],
   "source": [
    "kateqoriya.reset_index().rename(columns={\"level_1\" : \"mehsul_kateqoriya\", \"mehsul_kateqoriya\" : \"satish_sayi\"})"
   ]
  },
  {
   "cell_type": "code",
   "execution_count": null,
   "metadata": {},
   "outputs": [],
   "source": []
  },
  {
   "cell_type": "code",
   "execution_count": null,
   "metadata": {},
   "outputs": [],
   "source": []
  }
 ],
 "metadata": {
  "kernelspec": {
   "display_name": "Python 3",
   "language": "python",
   "name": "python3"
  },
  "language_info": {
   "codemirror_mode": {
    "name": "ipython",
    "version": 3
   },
   "file_extension": ".py",
   "mimetype": "text/x-python",
   "name": "python",
   "nbconvert_exporter": "python",
   "pygments_lexer": "ipython3",
   "version": "3.8.5"
  }
 },
 "nbformat": 4,
 "nbformat_minor": 4
}

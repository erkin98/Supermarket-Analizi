{
 "cells": [
  {
   "cell_type": "markdown",
   "metadata": {},
   "source": [
    "# Tapşırıq 7.\n",
    "\n",
    "## Xahiş edirəm, ötən il tətbiq etdiyimiz endirim kompaniyalarının hansının daha uğurlu olduğunu əks etdirən qrafik hazırlayın. Yəni, müştərilərimiz ən çox hansı kompaniyamızdan yararlanıb?"
   ]
  },
  {
   "cell_type": "code",
   "execution_count": null,
   "metadata": {},
   "outputs": [],
   "source": []
  },
  {
   "cell_type": "code",
   "execution_count": 1,
   "metadata": {},
   "outputs": [],
   "source": [
    "import pandas as pd\n",
    "import matplotlib.pyplot as plt"
   ]
  },
  {
   "cell_type": "code",
   "execution_count": 2,
   "metadata": {},
   "outputs": [
    {
     "data": {
      "text/html": [
       "<div>\n",
       "<style scoped>\n",
       "    .dataframe tbody tr th:only-of-type {\n",
       "        vertical-align: middle;\n",
       "    }\n",
       "\n",
       "    .dataframe tbody tr th {\n",
       "        vertical-align: top;\n",
       "    }\n",
       "\n",
       "    .dataframe thead th {\n",
       "        text-align: right;\n",
       "    }\n",
       "</style>\n",
       "<table border=\"1\" class=\"dataframe\">\n",
       "  <thead>\n",
       "    <tr style=\"text-align: right;\">\n",
       "      <th></th>\n",
       "      <th>column_a</th>\n",
       "      <th>satish_kodu</th>\n",
       "      <th>mehsul_kodu</th>\n",
       "      <th>mehsul_ad</th>\n",
       "      <th>mehsul_kateqoriya</th>\n",
       "      <th>mehsul_qiymet</th>\n",
       "      <th>satish_tarixi</th>\n",
       "      <th>endirim_kompaniya</th>\n",
       "      <th>bonus_kart</th>\n",
       "      <th>magaza_ad</th>\n",
       "      <th>magaza_lat</th>\n",
       "      <th>magaza_long</th>\n",
       "      <th>magaza_location</th>\n",
       "    </tr>\n",
       "  </thead>\n",
       "  <tbody>\n",
       "    <tr>\n",
       "      <th>0</th>\n",
       "      <td>0</td>\n",
       "      <td>577571</td>\n",
       "      <td>3334</td>\n",
       "      <td>GONDOL SIMPLE LABABO VE BUZLUK HALISI G61*50</td>\n",
       "      <td>Məişət məhsulları</td>\n",
       "      <td>3.68</td>\n",
       "      <td>2019-07-19T12:29:00</td>\n",
       "      <td>Sərin Yay günləri</td>\n",
       "      <td>True</td>\n",
       "      <td>Zabrat</td>\n",
       "      <td>40.485561</td>\n",
       "      <td>49.946741</td>\n",
       "      <td>POINT(49.9467409 40.4855613)</td>\n",
       "    </tr>\n",
       "    <tr>\n",
       "      <th>1</th>\n",
       "      <td>1</td>\n",
       "      <td>577571</td>\n",
       "      <td>4674</td>\n",
       "      <td>TAXTA BICAQ 3232</td>\n",
       "      <td>Qab-qacaq</td>\n",
       "      <td>2.25</td>\n",
       "      <td>2019-07-19T12:29:00</td>\n",
       "      <td>Sərin Yay günləri</td>\n",
       "      <td>True</td>\n",
       "      <td>Zabrat</td>\n",
       "      <td>40.485561</td>\n",
       "      <td>49.946741</td>\n",
       "      <td>POINT(49.9467409 40.4855613)</td>\n",
       "    </tr>\n",
       "    <tr>\n",
       "      <th>2</th>\n",
       "      <td>2</td>\n",
       "      <td>577571</td>\n",
       "      <td>8388</td>\n",
       "      <td>VITA 1LT ANANAS SIRESI</td>\n",
       "      <td>Meyvə Şirələri</td>\n",
       "      <td>2.50</td>\n",
       "      <td>2019-07-19T12:29:00</td>\n",
       "      <td>Sərin Yay günləri</td>\n",
       "      <td>True</td>\n",
       "      <td>Zabrat</td>\n",
       "      <td>40.485561</td>\n",
       "      <td>49.946741</td>\n",
       "      <td>POINT(49.9467409 40.4855613)</td>\n",
       "    </tr>\n",
       "    <tr>\n",
       "      <th>3</th>\n",
       "      <td>3</td>\n",
       "      <td>577571</td>\n",
       "      <td>6017</td>\n",
       "      <td>GILAN BAGDAN 1LT SARI GAVALI KOMPOTU</td>\n",
       "      <td>Kompotlar</td>\n",
       "      <td>1.45</td>\n",
       "      <td>2019-07-19T12:29:00</td>\n",
       "      <td>Sərin Yay günləri</td>\n",
       "      <td>True</td>\n",
       "      <td>Zabrat</td>\n",
       "      <td>40.485561</td>\n",
       "      <td>49.946741</td>\n",
       "      <td>POINT(49.9467409 40.4855613)</td>\n",
       "    </tr>\n",
       "    <tr>\n",
       "      <th>4</th>\n",
       "      <td>4</td>\n",
       "      <td>577571</td>\n",
       "      <td>8297</td>\n",
       "      <td>OSRAM SUPERSTAR LAMPA 64544A ECO 57W E27</td>\n",
       "      <td>Məişət məhsulları</td>\n",
       "      <td>2.92</td>\n",
       "      <td>2019-07-19T12:29:00</td>\n",
       "      <td>Sərin Yay günləri</td>\n",
       "      <td>True</td>\n",
       "      <td>Zabrat</td>\n",
       "      <td>40.485561</td>\n",
       "      <td>49.946741</td>\n",
       "      <td>POINT(49.9467409 40.4855613)</td>\n",
       "    </tr>\n",
       "  </tbody>\n",
       "</table>\n",
       "</div>"
      ],
      "text/plain": [
       "   column_a  satish_kodu  mehsul_kodu  \\\n",
       "0         0       577571         3334   \n",
       "1         1       577571         4674   \n",
       "2         2       577571         8388   \n",
       "3         3       577571         6017   \n",
       "4         4       577571         8297   \n",
       "\n",
       "                                      mehsul_ad  mehsul_kateqoriya  \\\n",
       "0  GONDOL SIMPLE LABABO VE BUZLUK HALISI G61*50  Məişət məhsulları   \n",
       "1                              TAXTA BICAQ 3232          Qab-qacaq   \n",
       "2                        VITA 1LT ANANAS SIRESI     Meyvə Şirələri   \n",
       "3          GILAN BAGDAN 1LT SARI GAVALI KOMPOTU          Kompotlar   \n",
       "4      OSRAM SUPERSTAR LAMPA 64544A ECO 57W E27  Məişət məhsulları   \n",
       "\n",
       "   mehsul_qiymet        satish_tarixi  endirim_kompaniya  bonus_kart  \\\n",
       "0           3.68  2019-07-19T12:29:00  Sərin Yay günləri        True   \n",
       "1           2.25  2019-07-19T12:29:00  Sərin Yay günləri        True   \n",
       "2           2.50  2019-07-19T12:29:00  Sərin Yay günləri        True   \n",
       "3           1.45  2019-07-19T12:29:00  Sərin Yay günləri        True   \n",
       "4           2.92  2019-07-19T12:29:00  Sərin Yay günləri        True   \n",
       "\n",
       "  magaza_ad  magaza_lat  magaza_long               magaza_location  \n",
       "0    Zabrat   40.485561    49.946741  POINT(49.9467409 40.4855613)  \n",
       "1    Zabrat   40.485561    49.946741  POINT(49.9467409 40.4855613)  \n",
       "2    Zabrat   40.485561    49.946741  POINT(49.9467409 40.4855613)  \n",
       "3    Zabrat   40.485561    49.946741  POINT(49.9467409 40.4855613)  \n",
       "4    Zabrat   40.485561    49.946741  POINT(49.9467409 40.4855613)  "
      ]
     },
     "execution_count": 2,
     "metadata": {},
     "output_type": "execute_result"
    }
   ],
   "source": [
    "data = pd.read_csv(\"esas_mehsullar.csv\")\n",
    "df = data.copy()\n",
    "df.head()"
   ]
  },
  {
   "cell_type": "code",
   "execution_count": 3,
   "metadata": {},
   "outputs": [],
   "source": [
    "df[\"satish_kodu\"] = df[\"satish_kodu\"].astype(\"object\")"
   ]
  },
  {
   "cell_type": "code",
   "execution_count": 4,
   "metadata": {},
   "outputs": [],
   "source": [
    "df[\"endirim_kompaniya\"] = df[\"endirim_kompaniya\"].transform(lambda x: x.replace(\"S?rf?li Yaz\", \"Sərfəli Yaz\"))"
   ]
  },
  {
   "cell_type": "code",
   "execution_count": 5,
   "metadata": {},
   "outputs": [
    {
     "data": {
      "text/plain": [
       "column_a                  0\n",
       "satish_kodu               0\n",
       "mehsul_kodu               0\n",
       "mehsul_ad               771\n",
       "mehsul_kateqoriya         0\n",
       "mehsul_qiymet           771\n",
       "satish_tarixi             0\n",
       "endirim_kompaniya    220929\n",
       "bonus_kart                0\n",
       "magaza_ad                 0\n",
       "magaza_lat                0\n",
       "magaza_long               0\n",
       "magaza_location           0\n",
       "dtype: int64"
      ]
     },
     "execution_count": 5,
     "metadata": {},
     "output_type": "execute_result"
    }
   ],
   "source": [
    "# çatısmayan verilənlər\n",
    "\n",
    "df.isnull().sum()"
   ]
  },
  {
   "cell_type": "code",
   "execution_count": 6,
   "metadata": {},
   "outputs": [],
   "source": [
    "# çatışmayan lazımsız verilənləri silmək\n",
    "\n",
    "df.dropna(subset=[\"mehsul_ad\", \"mehsul_qiymet\"], inplace = True)"
   ]
  },
  {
   "cell_type": "code",
   "execution_count": 7,
   "metadata": {},
   "outputs": [
    {
     "data": {
      "text/plain": [
       "column_a                  0\n",
       "satish_kodu               0\n",
       "mehsul_kodu               0\n",
       "mehsul_ad                 0\n",
       "mehsul_kateqoriya         0\n",
       "mehsul_qiymet             0\n",
       "satish_tarixi             0\n",
       "endirim_kompaniya    220560\n",
       "bonus_kart                0\n",
       "magaza_ad                 0\n",
       "magaza_lat                0\n",
       "magaza_long               0\n",
       "magaza_location           0\n",
       "dtype: int64"
      ]
     },
     "execution_count": 7,
     "metadata": {},
     "output_type": "execute_result"
    }
   ],
   "source": [
    "df.isnull().sum()"
   ]
  },
  {
   "cell_type": "code",
   "execution_count": 8,
   "metadata": {},
   "outputs": [
    {
     "data": {
      "text/html": [
       "<div>\n",
       "<style scoped>\n",
       "    .dataframe tbody tr th:only-of-type {\n",
       "        vertical-align: middle;\n",
       "    }\n",
       "\n",
       "    .dataframe tbody tr th {\n",
       "        vertical-align: top;\n",
       "    }\n",
       "\n",
       "    .dataframe thead th {\n",
       "        text-align: right;\n",
       "    }\n",
       "</style>\n",
       "<table border=\"1\" class=\"dataframe\">\n",
       "  <thead>\n",
       "    <tr style=\"text-align: right;\">\n",
       "      <th></th>\n",
       "      <th>satish_kodu</th>\n",
       "    </tr>\n",
       "    <tr>\n",
       "      <th>endirim_kompaniya</th>\n",
       "      <th></th>\n",
       "    </tr>\n",
       "  </thead>\n",
       "  <tbody>\n",
       "    <tr>\n",
       "      <th>Payız endirimləri</th>\n",
       "      <td>35566</td>\n",
       "    </tr>\n",
       "    <tr>\n",
       "      <th>Yeni il fürsətləri</th>\n",
       "      <td>35745</td>\n",
       "    </tr>\n",
       "    <tr>\n",
       "      <th>Bərəkətli Novruz</th>\n",
       "      <td>36660</td>\n",
       "    </tr>\n",
       "    <tr>\n",
       "      <th>Sərfəli Yaz</th>\n",
       "      <td>36773</td>\n",
       "    </tr>\n",
       "    <tr>\n",
       "      <th>Sərin Yay günləri</th>\n",
       "      <td>72751</td>\n",
       "    </tr>\n",
       "  </tbody>\n",
       "</table>\n",
       "</div>"
      ],
      "text/plain": [
       "                    satish_kodu\n",
       "endirim_kompaniya              \n",
       "Payız endirimləri         35566\n",
       "Yeni il fürsətləri        35745\n",
       "Bərəkətli Novruz          36660\n",
       "Sərfəli Yaz               36773\n",
       "Sərin Yay günləri         72751"
      ]
     },
     "execution_count": 8,
     "metadata": {},
     "output_type": "execute_result"
    }
   ],
   "source": [
    "# kompaniyalar üzrə müştəri sayı\n",
    "\n",
    "say = df.groupby(\"endirim_kompaniya\")[\"satish_kodu\"].apply(lambda x: x.count()).sort_values()\n",
    "say = pd.DataFrame(say)\n",
    "say"
   ]
  },
  {
   "cell_type": "code",
   "execution_count": null,
   "metadata": {},
   "outputs": [],
   "source": []
  },
  {
   "cell_type": "code",
   "execution_count": 9,
   "metadata": {},
   "outputs": [
    {
     "data": {
      "text/html": [
       "<div>\n",
       "<style scoped>\n",
       "    .dataframe tbody tr th:only-of-type {\n",
       "        vertical-align: middle;\n",
       "    }\n",
       "\n",
       "    .dataframe tbody tr th {\n",
       "        vertical-align: top;\n",
       "    }\n",
       "\n",
       "    .dataframe thead th {\n",
       "        text-align: right;\n",
       "    }\n",
       "</style>\n",
       "<table border=\"1\" class=\"dataframe\">\n",
       "  <thead>\n",
       "    <tr style=\"text-align: right;\">\n",
       "      <th></th>\n",
       "      <th>mehsul_qiymet</th>\n",
       "    </tr>\n",
       "    <tr>\n",
       "      <th>endirim_kompaniya</th>\n",
       "      <th></th>\n",
       "    </tr>\n",
       "  </thead>\n",
       "  <tbody>\n",
       "    <tr>\n",
       "      <th>Payız endirimləri</th>\n",
       "      <td>206987.57</td>\n",
       "    </tr>\n",
       "    <tr>\n",
       "      <th>Yeni il fürsətləri</th>\n",
       "      <td>209095.11</td>\n",
       "    </tr>\n",
       "    <tr>\n",
       "      <th>Sərfəli Yaz</th>\n",
       "      <td>211757.40</td>\n",
       "    </tr>\n",
       "    <tr>\n",
       "      <th>Bərəkətli Novruz</th>\n",
       "      <td>213356.35</td>\n",
       "    </tr>\n",
       "    <tr>\n",
       "      <th>Sərin Yay günləri</th>\n",
       "      <td>418929.91</td>\n",
       "    </tr>\n",
       "  </tbody>\n",
       "</table>\n",
       "</div>"
      ],
      "text/plain": [
       "                    mehsul_qiymet\n",
       "endirim_kompaniya                \n",
       "Payız endirimləri       206987.57\n",
       "Yeni il fürsətləri      209095.11\n",
       "Sərfəli Yaz             211757.40\n",
       "Bərəkətli Novruz        213356.35\n",
       "Sərin Yay günləri       418929.91"
      ]
     },
     "execution_count": 9,
     "metadata": {},
     "output_type": "execute_result"
    }
   ],
   "source": [
    "# kompaniyalar üzrə ümumi gəlir\n",
    "\n",
    "gelir = df.groupby(\"endirim_kompaniya\")[\"mehsul_qiymet\"].apply(lambda x: x.sum()).sort_values()\n",
    "gelir = pd.DataFrame(gelir)\n",
    "gelir"
   ]
  },
  {
   "cell_type": "code",
   "execution_count": 10,
   "metadata": {},
   "outputs": [
    {
     "data": {
      "text/html": [
       "<div>\n",
       "<style scoped>\n",
       "    .dataframe tbody tr th:only-of-type {\n",
       "        vertical-align: middle;\n",
       "    }\n",
       "\n",
       "    .dataframe tbody tr th {\n",
       "        vertical-align: top;\n",
       "    }\n",
       "\n",
       "    .dataframe thead th {\n",
       "        text-align: right;\n",
       "    }\n",
       "</style>\n",
       "<table border=\"1\" class=\"dataframe\">\n",
       "  <thead>\n",
       "    <tr style=\"text-align: right;\">\n",
       "      <th></th>\n",
       "      <th>satish_kodu</th>\n",
       "      <th>mehsul_qiymet</th>\n",
       "    </tr>\n",
       "    <tr>\n",
       "      <th>endirim_kompaniya</th>\n",
       "      <th></th>\n",
       "      <th></th>\n",
       "    </tr>\n",
       "  </thead>\n",
       "  <tbody>\n",
       "    <tr>\n",
       "      <th>Payız endirimləri</th>\n",
       "      <td>35566</td>\n",
       "      <td>206987.57</td>\n",
       "    </tr>\n",
       "    <tr>\n",
       "      <th>Yeni il fürsətləri</th>\n",
       "      <td>35745</td>\n",
       "      <td>209095.11</td>\n",
       "    </tr>\n",
       "    <tr>\n",
       "      <th>Bərəkətli Novruz</th>\n",
       "      <td>36660</td>\n",
       "      <td>213356.35</td>\n",
       "    </tr>\n",
       "    <tr>\n",
       "      <th>Sərfəli Yaz</th>\n",
       "      <td>36773</td>\n",
       "      <td>211757.40</td>\n",
       "    </tr>\n",
       "    <tr>\n",
       "      <th>Sərin Yay günləri</th>\n",
       "      <td>72751</td>\n",
       "      <td>418929.91</td>\n",
       "    </tr>\n",
       "  </tbody>\n",
       "</table>\n",
       "</div>"
      ],
      "text/plain": [
       "                    satish_kodu  mehsul_qiymet\n",
       "endirim_kompaniya                             \n",
       "Payız endirimləri         35566      206987.57\n",
       "Yeni il fürsətləri        35745      209095.11\n",
       "Bərəkətli Novruz          36660      213356.35\n",
       "Sərfəli Yaz               36773      211757.40\n",
       "Sərin Yay günləri         72751      418929.91"
      ]
     },
     "execution_count": 10,
     "metadata": {},
     "output_type": "execute_result"
    }
   ],
   "source": [
    "# dataları birləşdirmək\n",
    "\n",
    "data2 = pd.merge(say,gelir, on = \"endirim_kompaniya\")\n",
    "data2"
   ]
  },
  {
   "cell_type": "code",
   "execution_count": 11,
   "metadata": {},
   "outputs": [
    {
     "data": {
      "text/html": [
       "<div>\n",
       "<style scoped>\n",
       "    .dataframe tbody tr th:only-of-type {\n",
       "        vertical-align: middle;\n",
       "    }\n",
       "\n",
       "    .dataframe tbody tr th {\n",
       "        vertical-align: top;\n",
       "    }\n",
       "\n",
       "    .dataframe thead th {\n",
       "        text-align: right;\n",
       "    }\n",
       "</style>\n",
       "<table border=\"1\" class=\"dataframe\">\n",
       "  <thead>\n",
       "    <tr style=\"text-align: right;\">\n",
       "      <th></th>\n",
       "      <th>endirim_kompaniya</th>\n",
       "      <th>musteri_sayi</th>\n",
       "      <th>umumi_gelir</th>\n",
       "    </tr>\n",
       "  </thead>\n",
       "  <tbody>\n",
       "    <tr>\n",
       "      <th>0</th>\n",
       "      <td>Payız endirimləri</td>\n",
       "      <td>35566</td>\n",
       "      <td>206987.57</td>\n",
       "    </tr>\n",
       "    <tr>\n",
       "      <th>1</th>\n",
       "      <td>Yeni il fürsətləri</td>\n",
       "      <td>35745</td>\n",
       "      <td>209095.11</td>\n",
       "    </tr>\n",
       "    <tr>\n",
       "      <th>2</th>\n",
       "      <td>Bərəkətli Novruz</td>\n",
       "      <td>36660</td>\n",
       "      <td>213356.35</td>\n",
       "    </tr>\n",
       "    <tr>\n",
       "      <th>3</th>\n",
       "      <td>Sərfəli Yaz</td>\n",
       "      <td>36773</td>\n",
       "      <td>211757.40</td>\n",
       "    </tr>\n",
       "    <tr>\n",
       "      <th>4</th>\n",
       "      <td>Sərin Yay günləri</td>\n",
       "      <td>72751</td>\n",
       "      <td>418929.91</td>\n",
       "    </tr>\n",
       "  </tbody>\n",
       "</table>\n",
       "</div>"
      ],
      "text/plain": [
       "    endirim_kompaniya  musteri_sayi  umumi_gelir\n",
       "0   Payız endirimləri         35566    206987.57\n",
       "1  Yeni il fürsətləri         35745    209095.11\n",
       "2    Bərəkətli Novruz         36660    213356.35\n",
       "3         Sərfəli Yaz         36773    211757.40\n",
       "4   Sərin Yay günləri         72751    418929.91"
      ]
     },
     "execution_count": 11,
     "metadata": {},
     "output_type": "execute_result"
    }
   ],
   "source": [
    "# data üzərində düzəlişlər\n",
    "\n",
    "data2.rename(columns={\"satish_kodu\" : \"musteri_sayi\",\n",
    "                     \"mehsul_qiymet\" : \"umumi_gelir\"}, inplace = True)\n",
    "data2.reset_index(inplace = True)\n",
    "data2"
   ]
  },
  {
   "cell_type": "code",
   "execution_count": 12,
   "metadata": {},
   "outputs": [
    {
     "data": {
      "image/png": "[encoded data removed]",
      "text/plain": [
       "<Figure size 648x432 with 1 Axes>"
      ]
     },
     "metadata": {
      "needs_background": "light"
     },
     "output_type": "display_data"
    }
   ],
   "source": [
    "# qrafiklə göstərmək\n",
    "\n",
    "ax = data2.plot(y = [\"musteri_sayi\",\"umumi_gelir\"], x = \"endirim_kompaniya\", kind = \"barh\", \n",
    "           figsize = (9,6),\n",
    "           color = [\"b\",\"r\"]);\n",
    "plt.legend([\"Müştəri sayı\", \"Ümumi gəlir\"], fontsize = 14)\n",
    "plt.ylabel(\"Kompaniya adı\", fontsize = 15);\n",
    "ax.set_facecolor('grey') \n",
    "plt.yticks(fontsize = 12, fontweight = \"bold\")\n",
    "plt.xticks(fontsize = 10, fontweight = \"bold\")\n",
    "plt.title(\"Endirim kompaniyalarının gəlirlilik sıralaması\", fontsize = 15, fontweight = \"bold\");\n",
    "plt.savefig('qrafik.png', dpi = 100, bbox_inches = 'tight')"
   ]
  },
  {
   "cell_type": "code",
   "execution_count": null,
   "metadata": {},
   "outputs": [],
   "source": []
  }
 ],
 "metadata": {
  "kernelspec": {
   "display_name": "Python 3",
   "language": "python",
   "name": "python3"
  },
  "language_info": {
   "codemirror_mode": {
    "name": "ipython",
    "version": 3
   },
   "file_extension": ".py",
   "mimetype": "text/x-python",
   "name": "python",
   "nbconvert_exporter": "python",
   "pygments_lexer": "ipython3",
   "version": "3.8.5"
  }
 },
 "nbformat": 4,
 "nbformat_minor": 4
}

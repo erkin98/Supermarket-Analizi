{
 "cells": [
  {
   "cell_type": "markdown",
   "metadata": {},
   "source": [
    "# Tapşırıq 10.\n",
    "\n",
    "## Öyrənməyimiz yaxşı olardı ki, fəsillər üzrə hansı məhsul kateqoriyasına aid məhsullar daha çox satılıb? Bu məlumat, bu il çox faydalı olar."
   ]
  },
  {
   "cell_type": "code",
   "execution_count": null,
   "metadata": {},
   "outputs": [],
   "source": []
  },
  {
   "cell_type": "code",
   "execution_count": 1,
   "metadata": {},
   "outputs": [],
   "source": [
    "import pandas as pd"
   ]
  },
  {
   "cell_type": "code",
   "execution_count": 2,
   "metadata": {},
   "outputs": [
    {
     "data": {
      "text/html": [
       "<div>\n",
       "<style scoped>\n",
       "    .dataframe tbody tr th:only-of-type {\n",
       "        vertical-align: middle;\n",
       "    }\n",
       "\n",
       "    .dataframe tbody tr th {\n",
       "        vertical-align: top;\n",
       "    }\n",
       "\n",
       "    .dataframe thead th {\n",
       "        text-align: right;\n",
       "    }\n",
       "</style>\n",
       "<table border=\"1\" class=\"dataframe\">\n",
       "  <thead>\n",
       "    <tr style=\"text-align: right;\">\n",
       "      <th></th>\n",
       "      <th>column_a</th>\n",
       "      <th>satish_kodu</th>\n",
       "      <th>mehsul_kodu</th>\n",
       "      <th>mehsul_ad</th>\n",
       "      <th>mehsul_kateqoriya</th>\n",
       "      <th>mehsul_qiymet</th>\n",
       "      <th>satish_tarixi</th>\n",
       "      <th>endirim_kompaniya</th>\n",
       "      <th>bonus_kart</th>\n",
       "      <th>magaza_ad</th>\n",
       "      <th>magaza_lat</th>\n",
       "      <th>magaza_long</th>\n",
       "      <th>magaza_location</th>\n",
       "    </tr>\n",
       "  </thead>\n",
       "  <tbody>\n",
       "    <tr>\n",
       "      <th>0</th>\n",
       "      <td>0</td>\n",
       "      <td>577571</td>\n",
       "      <td>3334</td>\n",
       "      <td>GONDOL SIMPLE LABABO VE BUZLUK HALISI G61*50</td>\n",
       "      <td>Məişət məhsulları</td>\n",
       "      <td>3.68</td>\n",
       "      <td>2019-07-19T12:29:00</td>\n",
       "      <td>Sərin Yay günləri</td>\n",
       "      <td>True</td>\n",
       "      <td>Zabrat</td>\n",
       "      <td>40.485561</td>\n",
       "      <td>49.946741</td>\n",
       "      <td>POINT(49.9467409 40.4855613)</td>\n",
       "    </tr>\n",
       "    <tr>\n",
       "      <th>1</th>\n",
       "      <td>1</td>\n",
       "      <td>577571</td>\n",
       "      <td>4674</td>\n",
       "      <td>TAXTA BICAQ 3232</td>\n",
       "      <td>Qab-qacaq</td>\n",
       "      <td>2.25</td>\n",
       "      <td>2019-07-19T12:29:00</td>\n",
       "      <td>Sərin Yay günləri</td>\n",
       "      <td>True</td>\n",
       "      <td>Zabrat</td>\n",
       "      <td>40.485561</td>\n",
       "      <td>49.946741</td>\n",
       "      <td>POINT(49.9467409 40.4855613)</td>\n",
       "    </tr>\n",
       "    <tr>\n",
       "      <th>2</th>\n",
       "      <td>2</td>\n",
       "      <td>577571</td>\n",
       "      <td>8388</td>\n",
       "      <td>VITA 1LT ANANAS SIRESI</td>\n",
       "      <td>Meyvə Şirələri</td>\n",
       "      <td>2.50</td>\n",
       "      <td>2019-07-19T12:29:00</td>\n",
       "      <td>Sərin Yay günləri</td>\n",
       "      <td>True</td>\n",
       "      <td>Zabrat</td>\n",
       "      <td>40.485561</td>\n",
       "      <td>49.946741</td>\n",
       "      <td>POINT(49.9467409 40.4855613)</td>\n",
       "    </tr>\n",
       "    <tr>\n",
       "      <th>3</th>\n",
       "      <td>3</td>\n",
       "      <td>577571</td>\n",
       "      <td>6017</td>\n",
       "      <td>GILAN BAGDAN 1LT SARI GAVALI KOMPOTU</td>\n",
       "      <td>Kompotlar</td>\n",
       "      <td>1.45</td>\n",
       "      <td>2019-07-19T12:29:00</td>\n",
       "      <td>Sərin Yay günləri</td>\n",
       "      <td>True</td>\n",
       "      <td>Zabrat</td>\n",
       "      <td>40.485561</td>\n",
       "      <td>49.946741</td>\n",
       "      <td>POINT(49.9467409 40.4855613)</td>\n",
       "    </tr>\n",
       "    <tr>\n",
       "      <th>4</th>\n",
       "      <td>4</td>\n",
       "      <td>577571</td>\n",
       "      <td>8297</td>\n",
       "      <td>OSRAM SUPERSTAR LAMPA 64544A ECO 57W E27</td>\n",
       "      <td>Məişət məhsulları</td>\n",
       "      <td>2.92</td>\n",
       "      <td>2019-07-19T12:29:00</td>\n",
       "      <td>Sərin Yay günləri</td>\n",
       "      <td>True</td>\n",
       "      <td>Zabrat</td>\n",
       "      <td>40.485561</td>\n",
       "      <td>49.946741</td>\n",
       "      <td>POINT(49.9467409 40.4855613)</td>\n",
       "    </tr>\n",
       "  </tbody>\n",
       "</table>\n",
       "</div>"
      ],
      "text/plain": [
       "   column_a  satish_kodu  mehsul_kodu  \\\n",
       "0         0       577571         3334   \n",
       "1         1       577571         4674   \n",
       "2         2       577571         8388   \n",
       "3         3       577571         6017   \n",
       "4         4       577571         8297   \n",
       "\n",
       "                                      mehsul_ad  mehsul_kateqoriya  \\\n",
       "0  GONDOL SIMPLE LABABO VE BUZLUK HALISI G61*50  Məişət məhsulları   \n",
       "1                              TAXTA BICAQ 3232          Qab-qacaq   \n",
       "2                        VITA 1LT ANANAS SIRESI     Meyvə Şirələri   \n",
       "3          GILAN BAGDAN 1LT SARI GAVALI KOMPOTU          Kompotlar   \n",
       "4      OSRAM SUPERSTAR LAMPA 64544A ECO 57W E27  Məişət məhsulları   \n",
       "\n",
       "   mehsul_qiymet        satish_tarixi  endirim_kompaniya  bonus_kart  \\\n",
       "0           3.68  2019-07-19T12:29:00  Sərin Yay günləri        True   \n",
       "1           2.25  2019-07-19T12:29:00  Sərin Yay günləri        True   \n",
       "2           2.50  2019-07-19T12:29:00  Sərin Yay günləri        True   \n",
       "3           1.45  2019-07-19T12:29:00  Sərin Yay günləri        True   \n",
       "4           2.92  2019-07-19T12:29:00  Sərin Yay günləri        True   \n",
       "\n",
       "  magaza_ad  magaza_lat  magaza_long               magaza_location  \n",
       "0    Zabrat   40.485561    49.946741  POINT(49.9467409 40.4855613)  \n",
       "1    Zabrat   40.485561    49.946741  POINT(49.9467409 40.4855613)  \n",
       "2    Zabrat   40.485561    49.946741  POINT(49.9467409 40.4855613)  \n",
       "3    Zabrat   40.485561    49.946741  POINT(49.9467409 40.4855613)  \n",
       "4    Zabrat   40.485561    49.946741  POINT(49.9467409 40.4855613)  "
      ]
     },
     "execution_count": 2,
     "metadata": {},
     "output_type": "execute_result"
    }
   ],
   "source": [
    "data = pd.read_csv(\"esas_mehsullar.csv\")\n",
    "df = data.copy()\n",
    "df.head()"
   ]
  },
  {
   "cell_type": "code",
   "execution_count": 3,
   "metadata": {},
   "outputs": [],
   "source": [
    "# tarixləri ayırmaq\n",
    "\n",
    "df[\"satish_tarixi\"] = df[\"satish_tarixi\"].transform(lambda x: x.split(\"T\")).transform(lambda x: x[0])"
   ]
  },
  {
   "cell_type": "code",
   "execution_count": 4,
   "metadata": {},
   "outputs": [
    {
     "data": {
      "text/plain": [
       "0         2019-07-19\n",
       "1         2019-07-19\n",
       "2         2019-07-19\n",
       "3         2019-07-19\n",
       "4         2019-07-19\n",
       "             ...    \n",
       "438821    2019-09-15\n",
       "438822    2019-03-01\n",
       "438823    2019-03-01\n",
       "438824    2019-03-01\n",
       "438825    2019-03-01\n",
       "Name: satish_tarixi, Length: 438826, dtype: object"
      ]
     },
     "execution_count": 4,
     "metadata": {},
     "output_type": "execute_result"
    }
   ],
   "source": [
    "df[\"satish_tarixi\"]"
   ]
  },
  {
   "cell_type": "code",
   "execution_count": 5,
   "metadata": {},
   "outputs": [],
   "source": [
    "# sütunu tarix tipli dəyişənə çevirmək\n",
    "\n",
    "df[\"satish_tarixi\"] = df[\"satish_tarixi\"].astype(\"datetime64\")"
   ]
  },
  {
   "cell_type": "code",
   "execution_count": 6,
   "metadata": {},
   "outputs": [],
   "source": [
    "season = [\"Qış\", \"Qış\", \"Yaz\", \"Yaz\", \"Yaz\", \"Yay\", \"Yay\", \"Yay\", \"Payız\", \"Payız\", \"Payız\", \"Qış\"]"
   ]
  },
  {
   "cell_type": "code",
   "execution_count": 7,
   "metadata": {},
   "outputs": [],
   "source": [
    "month_to_season = dict(zip(range(1,13), season))"
   ]
  },
  {
   "cell_type": "code",
   "execution_count": 8,
   "metadata": {},
   "outputs": [
    {
     "data": {
      "text/plain": [
       "{1: 'Qış',\n",
       " 2: 'Qış',\n",
       " 3: 'Yaz',\n",
       " 4: 'Yaz',\n",
       " 5: 'Yaz',\n",
       " 6: 'Yay',\n",
       " 7: 'Yay',\n",
       " 8: 'Yay',\n",
       " 9: 'Payız',\n",
       " 10: 'Payız',\n",
       " 11: 'Payız',\n",
       " 12: 'Qış'}"
      ]
     },
     "execution_count": 8,
     "metadata": {},
     "output_type": "execute_result"
    }
   ],
   "source": [
    "month_to_season"
   ]
  },
  {
   "cell_type": "code",
   "execution_count": null,
   "metadata": {},
   "outputs": [],
   "source": []
  },
  {
   "cell_type": "code",
   "execution_count": 9,
   "metadata": {},
   "outputs": [],
   "source": [
    "# fəsil adlarından ibarət sütun yaratmaq \n",
    "\n",
    "fesiller = df[\"satish_tarixi\"].dt.month.map(month_to_season)"
   ]
  },
  {
   "cell_type": "code",
   "execution_count": 10,
   "metadata": {},
   "outputs": [
    {
     "data": {
      "text/plain": [
       "0           Yay\n",
       "1           Yay\n",
       "2           Yay\n",
       "3           Yay\n",
       "4           Yay\n",
       "          ...  \n",
       "438821    Payız\n",
       "438822      Yaz\n",
       "438823      Yaz\n",
       "438824      Yaz\n",
       "438825      Yaz\n",
       "Name: satish_tarixi, Length: 438826, dtype: object"
      ]
     },
     "execution_count": 10,
     "metadata": {},
     "output_type": "execute_result"
    }
   ],
   "source": [
    "fesiller"
   ]
  },
  {
   "cell_type": "code",
   "execution_count": 11,
   "metadata": {},
   "outputs": [],
   "source": [
    "# fesiller dəyişənini dataya əlavə etmək\n",
    "\n",
    "df[\"fesiller\"] = fesiller"
   ]
  },
  {
   "cell_type": "code",
   "execution_count": 12,
   "metadata": {},
   "outputs": [
    {
     "data": {
      "text/html": [
       "<div>\n",
       "<style scoped>\n",
       "    .dataframe tbody tr th:only-of-type {\n",
       "        vertical-align: middle;\n",
       "    }\n",
       "\n",
       "    .dataframe tbody tr th {\n",
       "        vertical-align: top;\n",
       "    }\n",
       "\n",
       "    .dataframe thead th {\n",
       "        text-align: right;\n",
       "    }\n",
       "</style>\n",
       "<table border=\"1\" class=\"dataframe\">\n",
       "  <thead>\n",
       "    <tr style=\"text-align: right;\">\n",
       "      <th></th>\n",
       "      <th>column_a</th>\n",
       "      <th>satish_kodu</th>\n",
       "      <th>mehsul_kodu</th>\n",
       "      <th>mehsul_ad</th>\n",
       "      <th>mehsul_kateqoriya</th>\n",
       "      <th>mehsul_qiymet</th>\n",
       "      <th>satish_tarixi</th>\n",
       "      <th>endirim_kompaniya</th>\n",
       "      <th>bonus_kart</th>\n",
       "      <th>magaza_ad</th>\n",
       "      <th>magaza_lat</th>\n",
       "      <th>magaza_long</th>\n",
       "      <th>magaza_location</th>\n",
       "      <th>fesiller</th>\n",
       "    </tr>\n",
       "  </thead>\n",
       "  <tbody>\n",
       "    <tr>\n",
       "      <th>0</th>\n",
       "      <td>0</td>\n",
       "      <td>577571</td>\n",
       "      <td>3334</td>\n",
       "      <td>GONDOL SIMPLE LABABO VE BUZLUK HALISI G61*50</td>\n",
       "      <td>Məişət məhsulları</td>\n",
       "      <td>3.68</td>\n",
       "      <td>2019-07-19</td>\n",
       "      <td>Sərin Yay günləri</td>\n",
       "      <td>True</td>\n",
       "      <td>Zabrat</td>\n",
       "      <td>40.485561</td>\n",
       "      <td>49.946741</td>\n",
       "      <td>POINT(49.9467409 40.4855613)</td>\n",
       "      <td>Yay</td>\n",
       "    </tr>\n",
       "    <tr>\n",
       "      <th>1</th>\n",
       "      <td>1</td>\n",
       "      <td>577571</td>\n",
       "      <td>4674</td>\n",
       "      <td>TAXTA BICAQ 3232</td>\n",
       "      <td>Qab-qacaq</td>\n",
       "      <td>2.25</td>\n",
       "      <td>2019-07-19</td>\n",
       "      <td>Sərin Yay günləri</td>\n",
       "      <td>True</td>\n",
       "      <td>Zabrat</td>\n",
       "      <td>40.485561</td>\n",
       "      <td>49.946741</td>\n",
       "      <td>POINT(49.9467409 40.4855613)</td>\n",
       "      <td>Yay</td>\n",
       "    </tr>\n",
       "    <tr>\n",
       "      <th>2</th>\n",
       "      <td>2</td>\n",
       "      <td>577571</td>\n",
       "      <td>8388</td>\n",
       "      <td>VITA 1LT ANANAS SIRESI</td>\n",
       "      <td>Meyvə Şirələri</td>\n",
       "      <td>2.50</td>\n",
       "      <td>2019-07-19</td>\n",
       "      <td>Sərin Yay günləri</td>\n",
       "      <td>True</td>\n",
       "      <td>Zabrat</td>\n",
       "      <td>40.485561</td>\n",
       "      <td>49.946741</td>\n",
       "      <td>POINT(49.9467409 40.4855613)</td>\n",
       "      <td>Yay</td>\n",
       "    </tr>\n",
       "    <tr>\n",
       "      <th>3</th>\n",
       "      <td>3</td>\n",
       "      <td>577571</td>\n",
       "      <td>6017</td>\n",
       "      <td>GILAN BAGDAN 1LT SARI GAVALI KOMPOTU</td>\n",
       "      <td>Kompotlar</td>\n",
       "      <td>1.45</td>\n",
       "      <td>2019-07-19</td>\n",
       "      <td>Sərin Yay günləri</td>\n",
       "      <td>True</td>\n",
       "      <td>Zabrat</td>\n",
       "      <td>40.485561</td>\n",
       "      <td>49.946741</td>\n",
       "      <td>POINT(49.9467409 40.4855613)</td>\n",
       "      <td>Yay</td>\n",
       "    </tr>\n",
       "    <tr>\n",
       "      <th>4</th>\n",
       "      <td>4</td>\n",
       "      <td>577571</td>\n",
       "      <td>8297</td>\n",
       "      <td>OSRAM SUPERSTAR LAMPA 64544A ECO 57W E27</td>\n",
       "      <td>Məişət məhsulları</td>\n",
       "      <td>2.92</td>\n",
       "      <td>2019-07-19</td>\n",
       "      <td>Sərin Yay günləri</td>\n",
       "      <td>True</td>\n",
       "      <td>Zabrat</td>\n",
       "      <td>40.485561</td>\n",
       "      <td>49.946741</td>\n",
       "      <td>POINT(49.9467409 40.4855613)</td>\n",
       "      <td>Yay</td>\n",
       "    </tr>\n",
       "  </tbody>\n",
       "</table>\n",
       "</div>"
      ],
      "text/plain": [
       "   column_a  satish_kodu  mehsul_kodu  \\\n",
       "0         0       577571         3334   \n",
       "1         1       577571         4674   \n",
       "2         2       577571         8388   \n",
       "3         3       577571         6017   \n",
       "4         4       577571         8297   \n",
       "\n",
       "                                      mehsul_ad  mehsul_kateqoriya  \\\n",
       "0  GONDOL SIMPLE LABABO VE BUZLUK HALISI G61*50  Məişət məhsulları   \n",
       "1                              TAXTA BICAQ 3232          Qab-qacaq   \n",
       "2                        VITA 1LT ANANAS SIRESI     Meyvə Şirələri   \n",
       "3          GILAN BAGDAN 1LT SARI GAVALI KOMPOTU          Kompotlar   \n",
       "4      OSRAM SUPERSTAR LAMPA 64544A ECO 57W E27  Məişət məhsulları   \n",
       "\n",
       "   mehsul_qiymet satish_tarixi  endirim_kompaniya  bonus_kart magaza_ad  \\\n",
       "0           3.68    2019-07-19  Sərin Yay günləri        True    Zabrat   \n",
       "1           2.25    2019-07-19  Sərin Yay günləri        True    Zabrat   \n",
       "2           2.50    2019-07-19  Sərin Yay günləri        True    Zabrat   \n",
       "3           1.45    2019-07-19  Sərin Yay günləri        True    Zabrat   \n",
       "4           2.92    2019-07-19  Sərin Yay günləri        True    Zabrat   \n",
       "\n",
       "   magaza_lat  magaza_long               magaza_location fesiller  \n",
       "0   40.485561    49.946741  POINT(49.9467409 40.4855613)      Yay  \n",
       "1   40.485561    49.946741  POINT(49.9467409 40.4855613)      Yay  \n",
       "2   40.485561    49.946741  POINT(49.9467409 40.4855613)      Yay  \n",
       "3   40.485561    49.946741  POINT(49.9467409 40.4855613)      Yay  \n",
       "4   40.485561    49.946741  POINT(49.9467409 40.4855613)      Yay  "
      ]
     },
     "execution_count": 12,
     "metadata": {},
     "output_type": "execute_result"
    }
   ],
   "source": [
    "df.head()"
   ]
  },
  {
   "cell_type": "code",
   "execution_count": 13,
   "metadata": {},
   "outputs": [
    {
     "data": {
      "text/plain": [
       "Yay      132988\n",
       "Yaz      132603\n",
       "Payız     89376\n",
       "Qış       83859\n",
       "Name: fesiller, dtype: int64"
      ]
     },
     "execution_count": 13,
     "metadata": {},
     "output_type": "execute_result"
    }
   ],
   "source": [
    "df[\"fesiller\"].value_counts()"
   ]
  },
  {
   "cell_type": "code",
   "execution_count": 14,
   "metadata": {},
   "outputs": [
    {
     "data": {
      "text/plain": [
       "fesiller           \n",
       "Payız     Şirniyyat    20524\n",
       "Qış       Şirniyyat    19177\n",
       "Yay       Şirniyyat    30451\n",
       "Yaz       Şirniyyat    30626\n",
       "Name: mehsul_kateqoriya, dtype: int64"
      ]
     },
     "execution_count": 14,
     "metadata": {},
     "output_type": "execute_result"
    }
   ],
   "source": [
    "# fəsillər üzrə ən çox satılan məhsul kateqoriyası\n",
    "\n",
    "df.groupby(\"fesiller\")[\"mehsul_kateqoriya\"].apply(lambda x: x.value_counts().nlargest(1))"
   ]
  },
  {
   "cell_type": "code",
   "execution_count": null,
   "metadata": {},
   "outputs": [],
   "source": []
  }
 ],
 "metadata": {
  "kernelspec": {
   "display_name": "Python 3",
   "language": "python",
   "name": "python3"
  },
  "language_info": {
   "codemirror_mode": {
    "name": "ipython",
    "version": 3
   },
   "file_extension": ".py",
   "mimetype": "text/x-python",
   "name": "python",
   "nbconvert_exporter": "python",
   "pygments_lexer": "ipython3",
   "version": "3.8.5"
  }
 },
 "nbformat": 4,
 "nbformat_minor": 4
}

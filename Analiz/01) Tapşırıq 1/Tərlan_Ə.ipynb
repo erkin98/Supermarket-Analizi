{
 "cells": [
  {
   "cell_type": "markdown",
   "metadata": {},
   "source": [
    "# Tapşırıq 1.\n",
    "\n",
    "## Üç və daha çox məhsul alan müştərilərin neçə faizi alış veriş zamanı bonus kartdan istifadə edib?"
   ]
  },
  {
   "cell_type": "code",
   "execution_count": null,
   "metadata": {},
   "outputs": [],
   "source": []
  },
  {
   "cell_type": "code",
   "execution_count": 1,
   "metadata": {},
   "outputs": [],
   "source": [
    "# pandası daxil edirik\n",
    "\n",
    "import pandas as pd"
   ]
  },
  {
   "cell_type": "code",
   "execution_count": 2,
   "metadata": {},
   "outputs": [
    {
     "data": {
      "text/html": [
       "<div>\n",
       "<style scoped>\n",
       "    .dataframe tbody tr th:only-of-type {\n",
       "        vertical-align: middle;\n",
       "    }\n",
       "\n",
       "    .dataframe tbody tr th {\n",
       "        vertical-align: top;\n",
       "    }\n",
       "\n",
       "    .dataframe thead th {\n",
       "        text-align: right;\n",
       "    }\n",
       "</style>\n",
       "<table border=\"1\" class=\"dataframe\">\n",
       "  <thead>\n",
       "    <tr style=\"text-align: right;\">\n",
       "      <th></th>\n",
       "      <th>column_a</th>\n",
       "      <th>satish_kodu</th>\n",
       "      <th>mehsul_kodu</th>\n",
       "      <th>mehsul_ad</th>\n",
       "      <th>mehsul_kateqoriya</th>\n",
       "      <th>mehsul_qiymet</th>\n",
       "      <th>satish_tarixi</th>\n",
       "      <th>endirim_kompaniya</th>\n",
       "      <th>bonus_kart</th>\n",
       "      <th>magaza_ad</th>\n",
       "      <th>magaza_lat</th>\n",
       "      <th>magaza_long</th>\n",
       "      <th>magaza_location</th>\n",
       "    </tr>\n",
       "  </thead>\n",
       "  <tbody>\n",
       "    <tr>\n",
       "      <th>0</th>\n",
       "      <td>0</td>\n",
       "      <td>577571</td>\n",
       "      <td>3334</td>\n",
       "      <td>GONDOL SIMPLE LABABO VE BUZLUK HALISI G61*50</td>\n",
       "      <td>Məişət məhsulları</td>\n",
       "      <td>3.68</td>\n",
       "      <td>2019-07-19T12:29:00</td>\n",
       "      <td>Sərin Yay günləri</td>\n",
       "      <td>True</td>\n",
       "      <td>Zabrat</td>\n",
       "      <td>40.485561</td>\n",
       "      <td>49.946741</td>\n",
       "      <td>POINT(49.9467409 40.4855613)</td>\n",
       "    </tr>\n",
       "    <tr>\n",
       "      <th>1</th>\n",
       "      <td>1</td>\n",
       "      <td>577571</td>\n",
       "      <td>4674</td>\n",
       "      <td>TAXTA BICAQ 3232</td>\n",
       "      <td>Qab-qacaq</td>\n",
       "      <td>2.25</td>\n",
       "      <td>2019-07-19T12:29:00</td>\n",
       "      <td>Sərin Yay günləri</td>\n",
       "      <td>True</td>\n",
       "      <td>Zabrat</td>\n",
       "      <td>40.485561</td>\n",
       "      <td>49.946741</td>\n",
       "      <td>POINT(49.9467409 40.4855613)</td>\n",
       "    </tr>\n",
       "    <tr>\n",
       "      <th>2</th>\n",
       "      <td>2</td>\n",
       "      <td>577571</td>\n",
       "      <td>8388</td>\n",
       "      <td>VITA 1LT ANANAS SIRESI</td>\n",
       "      <td>Meyvə Şirələri</td>\n",
       "      <td>2.50</td>\n",
       "      <td>2019-07-19T12:29:00</td>\n",
       "      <td>Sərin Yay günləri</td>\n",
       "      <td>True</td>\n",
       "      <td>Zabrat</td>\n",
       "      <td>40.485561</td>\n",
       "      <td>49.946741</td>\n",
       "      <td>POINT(49.9467409 40.4855613)</td>\n",
       "    </tr>\n",
       "    <tr>\n",
       "      <th>3</th>\n",
       "      <td>3</td>\n",
       "      <td>577571</td>\n",
       "      <td>6017</td>\n",
       "      <td>GILAN BAGDAN 1LT SARI GAVALI KOMPOTU</td>\n",
       "      <td>Kompotlar</td>\n",
       "      <td>1.45</td>\n",
       "      <td>2019-07-19T12:29:00</td>\n",
       "      <td>Sərin Yay günləri</td>\n",
       "      <td>True</td>\n",
       "      <td>Zabrat</td>\n",
       "      <td>40.485561</td>\n",
       "      <td>49.946741</td>\n",
       "      <td>POINT(49.9467409 40.4855613)</td>\n",
       "    </tr>\n",
       "    <tr>\n",
       "      <th>4</th>\n",
       "      <td>4</td>\n",
       "      <td>577571</td>\n",
       "      <td>8297</td>\n",
       "      <td>OSRAM SUPERSTAR LAMPA 64544A ECO 57W E27</td>\n",
       "      <td>Məişət məhsulları</td>\n",
       "      <td>2.92</td>\n",
       "      <td>2019-07-19T12:29:00</td>\n",
       "      <td>Sərin Yay günləri</td>\n",
       "      <td>True</td>\n",
       "      <td>Zabrat</td>\n",
       "      <td>40.485561</td>\n",
       "      <td>49.946741</td>\n",
       "      <td>POINT(49.9467409 40.4855613)</td>\n",
       "    </tr>\n",
       "  </tbody>\n",
       "</table>\n",
       "</div>"
      ],
      "text/plain": [
       "   column_a  satish_kodu  mehsul_kodu  \\\n",
       "0         0       577571         3334   \n",
       "1         1       577571         4674   \n",
       "2         2       577571         8388   \n",
       "3         3       577571         6017   \n",
       "4         4       577571         8297   \n",
       "\n",
       "                                      mehsul_ad  mehsul_kateqoriya  \\\n",
       "0  GONDOL SIMPLE LABABO VE BUZLUK HALISI G61*50  Məişət məhsulları   \n",
       "1                              TAXTA BICAQ 3232          Qab-qacaq   \n",
       "2                        VITA 1LT ANANAS SIRESI     Meyvə Şirələri   \n",
       "3          GILAN BAGDAN 1LT SARI GAVALI KOMPOTU          Kompotlar   \n",
       "4      OSRAM SUPERSTAR LAMPA 64544A ECO 57W E27  Məişət məhsulları   \n",
       "\n",
       "   mehsul_qiymet        satish_tarixi  endirim_kompaniya  bonus_kart  \\\n",
       "0           3.68  2019-07-19T12:29:00  Sərin Yay günləri        True   \n",
       "1           2.25  2019-07-19T12:29:00  Sərin Yay günləri        True   \n",
       "2           2.50  2019-07-19T12:29:00  Sərin Yay günləri        True   \n",
       "3           1.45  2019-07-19T12:29:00  Sərin Yay günləri        True   \n",
       "4           2.92  2019-07-19T12:29:00  Sərin Yay günləri        True   \n",
       "\n",
       "  magaza_ad  magaza_lat  magaza_long               magaza_location  \n",
       "0    Zabrat   40.485561    49.946741  POINT(49.9467409 40.4855613)  \n",
       "1    Zabrat   40.485561    49.946741  POINT(49.9467409 40.4855613)  \n",
       "2    Zabrat   40.485561    49.946741  POINT(49.9467409 40.4855613)  \n",
       "3    Zabrat   40.485561    49.946741  POINT(49.9467409 40.4855613)  \n",
       "4    Zabrat   40.485561    49.946741  POINT(49.9467409 40.4855613)  "
      ]
     },
     "execution_count": 2,
     "metadata": {},
     "output_type": "execute_result"
    }
   ],
   "source": [
    "data = pd.read_csv(\"esas_mehsullar.csv\").copy()\n",
    "data.head()"
   ]
  },
  {
   "cell_type": "code",
   "execution_count": 3,
   "metadata": {},
   "outputs": [
    {
     "data": {
      "text/html": [
       "<div>\n",
       "<style scoped>\n",
       "    .dataframe tbody tr th:only-of-type {\n",
       "        vertical-align: middle;\n",
       "    }\n",
       "\n",
       "    .dataframe tbody tr th {\n",
       "        vertical-align: top;\n",
       "    }\n",
       "\n",
       "    .dataframe thead th {\n",
       "        text-align: right;\n",
       "    }\n",
       "</style>\n",
       "<table border=\"1\" class=\"dataframe\">\n",
       "  <thead>\n",
       "    <tr style=\"text-align: right;\">\n",
       "      <th></th>\n",
       "      <th>satish_kodu</th>\n",
       "      <th>bonus_kart</th>\n",
       "    </tr>\n",
       "  </thead>\n",
       "  <tbody>\n",
       "    <tr>\n",
       "      <th>0</th>\n",
       "      <td>577571</td>\n",
       "      <td>True</td>\n",
       "    </tr>\n",
       "    <tr>\n",
       "      <th>1</th>\n",
       "      <td>577571</td>\n",
       "      <td>True</td>\n",
       "    </tr>\n",
       "    <tr>\n",
       "      <th>2</th>\n",
       "      <td>577571</td>\n",
       "      <td>True</td>\n",
       "    </tr>\n",
       "    <tr>\n",
       "      <th>3</th>\n",
       "      <td>577571</td>\n",
       "      <td>True</td>\n",
       "    </tr>\n",
       "    <tr>\n",
       "      <th>4</th>\n",
       "      <td>577571</td>\n",
       "      <td>True</td>\n",
       "    </tr>\n",
       "  </tbody>\n",
       "</table>\n",
       "</div>"
      ],
      "text/plain": [
       "   satish_kodu  bonus_kart\n",
       "0       577571        True\n",
       "1       577571        True\n",
       "2       577571        True\n",
       "3       577571        True\n",
       "4       577571        True"
      ]
     },
     "execution_count": 3,
     "metadata": {},
     "output_type": "execute_result"
    }
   ],
   "source": [
    "# bizə lazım olan dəyişənləri seçirik\n",
    "\n",
    "data = data[[\"satish_kodu\", \"bonus_kart\"]].copy()\n",
    "data.head()"
   ]
  },
  {
   "cell_type": "code",
   "execution_count": 4,
   "metadata": {},
   "outputs": [
    {
     "name": "stdout",
     "output_type": "stream",
     "text": [
      "<class 'pandas.core.frame.DataFrame'>\n",
      "RangeIndex: 438826 entries, 0 to 438825\n",
      "Data columns (total 2 columns):\n",
      " #   Column       Non-Null Count   Dtype\n",
      "---  ------       --------------   -----\n",
      " 0   satish_kodu  438826 non-null  int64\n",
      " 1   bonus_kart   438826 non-null  bool \n",
      "dtypes: bool(1), int64(1)\n",
      "memory usage: 3.8 MB\n"
     ]
    }
   ],
   "source": [
    "data.info()"
   ]
  },
  {
   "cell_type": "code",
   "execution_count": 5,
   "metadata": {},
   "outputs": [
    {
     "data": {
      "text/plain": [
       "satish_kodu    0\n",
       "bonus_kart     0\n",
       "dtype: int64"
      ]
     },
     "execution_count": 5,
     "metadata": {},
     "output_type": "execute_result"
    }
   ],
   "source": [
    "data.isnull().sum()"
   ]
  },
  {
   "cell_type": "code",
   "execution_count": 6,
   "metadata": {},
   "outputs": [],
   "source": [
    "data[\"satish_kodu\"] = data[\"satish_kodu\"].astype(\"object\")"
   ]
  },
  {
   "cell_type": "code",
   "execution_count": 7,
   "metadata": {},
   "outputs": [
    {
     "data": {
      "text/html": [
       "<div>\n",
       "<style scoped>\n",
       "    .dataframe tbody tr th:only-of-type {\n",
       "        vertical-align: middle;\n",
       "    }\n",
       "\n",
       "    .dataframe tbody tr th {\n",
       "        vertical-align: top;\n",
       "    }\n",
       "\n",
       "    .dataframe thead th {\n",
       "        text-align: right;\n",
       "    }\n",
       "</style>\n",
       "<table border=\"1\" class=\"dataframe\">\n",
       "  <thead>\n",
       "    <tr style=\"text-align: right;\">\n",
       "      <th></th>\n",
       "      <th>satish_kodu</th>\n",
       "      <th>bonus_kart</th>\n",
       "    </tr>\n",
       "  </thead>\n",
       "  <tbody>\n",
       "    <tr>\n",
       "      <th>0</th>\n",
       "      <td>577571</td>\n",
       "      <td>True</td>\n",
       "    </tr>\n",
       "    <tr>\n",
       "      <th>1</th>\n",
       "      <td>577571</td>\n",
       "      <td>True</td>\n",
       "    </tr>\n",
       "    <tr>\n",
       "      <th>2</th>\n",
       "      <td>577571</td>\n",
       "      <td>True</td>\n",
       "    </tr>\n",
       "    <tr>\n",
       "      <th>3</th>\n",
       "      <td>577571</td>\n",
       "      <td>True</td>\n",
       "    </tr>\n",
       "    <tr>\n",
       "      <th>4</th>\n",
       "      <td>577571</td>\n",
       "      <td>True</td>\n",
       "    </tr>\n",
       "  </tbody>\n",
       "</table>\n",
       "</div>"
      ],
      "text/plain": [
       "  satish_kodu  bonus_kart\n",
       "0      577571        True\n",
       "1      577571        True\n",
       "2      577571        True\n",
       "3      577571        True\n",
       "4      577571        True"
      ]
     },
     "execution_count": 7,
     "metadata": {},
     "output_type": "execute_result"
    }
   ],
   "source": [
    "data.head()"
   ]
  },
  {
   "cell_type": "code",
   "execution_count": 8,
   "metadata": {},
   "outputs": [],
   "source": [
    "# üç və daha çox məhsul alanları filter edirik\n",
    "\n",
    "df = data.groupby(\"satish_kodu\")[\"satish_kodu\"].count() >= 3"
   ]
  },
  {
   "cell_type": "code",
   "execution_count": 9,
   "metadata": {},
   "outputs": [
    {
     "data": {
      "text/plain": [
       "satish_kodu\n",
       "222224     True\n",
       "222229     True\n",
       "222245     True\n",
       "222256    False\n",
       "222258     True\n",
       "          ...  \n",
       "999935     True\n",
       "999958     True\n",
       "999971     True\n",
       "999973     True\n",
       "999984     True\n",
       "Name: satish_kodu, Length: 80000, dtype: bool"
      ]
     },
     "execution_count": 9,
     "metadata": {},
     "output_type": "execute_result"
    }
   ],
   "source": [
    "df"
   ]
  },
  {
   "cell_type": "code",
   "execution_count": 10,
   "metadata": {},
   "outputs": [
    {
     "data": {
      "text/plain": [
       "satish_kodu\n",
       "222224    True\n",
       "222229    True\n",
       "222245    True\n",
       "222258    True\n",
       "222263    True\n",
       "          ... \n",
       "999935    True\n",
       "999958    True\n",
       "999971    True\n",
       "999973    True\n",
       "999984    True\n",
       "Name: satish_kodu, Length: 70016, dtype: bool"
      ]
     },
     "execution_count": 10,
     "metadata": {},
     "output_type": "execute_result"
    }
   ],
   "source": [
    "# yalnız True olanları filter edirik\n",
    "\n",
    "ucden_boyuk = df[df]\n",
    "ucden_boyuk"
   ]
  },
  {
   "cell_type": "code",
   "execution_count": 11,
   "metadata": {},
   "outputs": [],
   "source": [
    "# True olan satış kodlarından yeni dataframe yaradırıq \n",
    "\n",
    "df = pd.DataFrame(ucden_boyuk.index)"
   ]
  },
  {
   "cell_type": "code",
   "execution_count": 12,
   "metadata": {},
   "outputs": [
    {
     "data": {
      "text/html": [
       "<div>\n",
       "<style scoped>\n",
       "    .dataframe tbody tr th:only-of-type {\n",
       "        vertical-align: middle;\n",
       "    }\n",
       "\n",
       "    .dataframe tbody tr th {\n",
       "        vertical-align: top;\n",
       "    }\n",
       "\n",
       "    .dataframe thead th {\n",
       "        text-align: right;\n",
       "    }\n",
       "</style>\n",
       "<table border=\"1\" class=\"dataframe\">\n",
       "  <thead>\n",
       "    <tr style=\"text-align: right;\">\n",
       "      <th></th>\n",
       "      <th>satish_kodu</th>\n",
       "    </tr>\n",
       "  </thead>\n",
       "  <tbody>\n",
       "    <tr>\n",
       "      <th>0</th>\n",
       "      <td>222224</td>\n",
       "    </tr>\n",
       "    <tr>\n",
       "      <th>1</th>\n",
       "      <td>222229</td>\n",
       "    </tr>\n",
       "    <tr>\n",
       "      <th>2</th>\n",
       "      <td>222245</td>\n",
       "    </tr>\n",
       "    <tr>\n",
       "      <th>3</th>\n",
       "      <td>222258</td>\n",
       "    </tr>\n",
       "    <tr>\n",
       "      <th>4</th>\n",
       "      <td>222263</td>\n",
       "    </tr>\n",
       "    <tr>\n",
       "      <th>...</th>\n",
       "      <td>...</td>\n",
       "    </tr>\n",
       "    <tr>\n",
       "      <th>70011</th>\n",
       "      <td>999935</td>\n",
       "    </tr>\n",
       "    <tr>\n",
       "      <th>70012</th>\n",
       "      <td>999958</td>\n",
       "    </tr>\n",
       "    <tr>\n",
       "      <th>70013</th>\n",
       "      <td>999971</td>\n",
       "    </tr>\n",
       "    <tr>\n",
       "      <th>70014</th>\n",
       "      <td>999973</td>\n",
       "    </tr>\n",
       "    <tr>\n",
       "      <th>70015</th>\n",
       "      <td>999984</td>\n",
       "    </tr>\n",
       "  </tbody>\n",
       "</table>\n",
       "<p>70016 rows × 1 columns</p>\n",
       "</div>"
      ],
      "text/plain": [
       "       satish_kodu\n",
       "0           222224\n",
       "1           222229\n",
       "2           222245\n",
       "3           222258\n",
       "4           222263\n",
       "...            ...\n",
       "70011       999935\n",
       "70012       999958\n",
       "70013       999971\n",
       "70014       999973\n",
       "70015       999984\n",
       "\n",
       "[70016 rows x 1 columns]"
      ]
     },
     "execution_count": 12,
     "metadata": {},
     "output_type": "execute_result"
    }
   ],
   "source": [
    "df"
   ]
  },
  {
   "cell_type": "code",
   "execution_count": 13,
   "metadata": {},
   "outputs": [],
   "source": [
    "# satış kodlarına görə bonus kartlarını qruplayırıq\n",
    "\n",
    "bonus = data.groupby(\"satish_kodu\")[\"bonus_kart\"].mean()"
   ]
  },
  {
   "cell_type": "code",
   "execution_count": 14,
   "metadata": {},
   "outputs": [],
   "source": [
    "# satış kodları ilə bonus kartlarını birləşdiririk\n",
    "\n",
    "last_data = pd.merge(df,bonus,on=\"satish_kodu\")"
   ]
  },
  {
   "cell_type": "code",
   "execution_count": 15,
   "metadata": {},
   "outputs": [
    {
     "data": {
      "text/html": [
       "<div>\n",
       "<style scoped>\n",
       "    .dataframe tbody tr th:only-of-type {\n",
       "        vertical-align: middle;\n",
       "    }\n",
       "\n",
       "    .dataframe tbody tr th {\n",
       "        vertical-align: top;\n",
       "    }\n",
       "\n",
       "    .dataframe thead th {\n",
       "        text-align: right;\n",
       "    }\n",
       "</style>\n",
       "<table border=\"1\" class=\"dataframe\">\n",
       "  <thead>\n",
       "    <tr style=\"text-align: right;\">\n",
       "      <th></th>\n",
       "      <th>satish_kodu</th>\n",
       "      <th>bonus_kart</th>\n",
       "    </tr>\n",
       "  </thead>\n",
       "  <tbody>\n",
       "    <tr>\n",
       "      <th>0</th>\n",
       "      <td>222224</td>\n",
       "      <td>False</td>\n",
       "    </tr>\n",
       "    <tr>\n",
       "      <th>1</th>\n",
       "      <td>222229</td>\n",
       "      <td>True</td>\n",
       "    </tr>\n",
       "    <tr>\n",
       "      <th>2</th>\n",
       "      <td>222245</td>\n",
       "      <td>True</td>\n",
       "    </tr>\n",
       "    <tr>\n",
       "      <th>3</th>\n",
       "      <td>222258</td>\n",
       "      <td>True</td>\n",
       "    </tr>\n",
       "    <tr>\n",
       "      <th>4</th>\n",
       "      <td>222263</td>\n",
       "      <td>True</td>\n",
       "    </tr>\n",
       "    <tr>\n",
       "      <th>...</th>\n",
       "      <td>...</td>\n",
       "      <td>...</td>\n",
       "    </tr>\n",
       "    <tr>\n",
       "      <th>70011</th>\n",
       "      <td>999935</td>\n",
       "      <td>False</td>\n",
       "    </tr>\n",
       "    <tr>\n",
       "      <th>70012</th>\n",
       "      <td>999958</td>\n",
       "      <td>True</td>\n",
       "    </tr>\n",
       "    <tr>\n",
       "      <th>70013</th>\n",
       "      <td>999971</td>\n",
       "      <td>True</td>\n",
       "    </tr>\n",
       "    <tr>\n",
       "      <th>70014</th>\n",
       "      <td>999973</td>\n",
       "      <td>False</td>\n",
       "    </tr>\n",
       "    <tr>\n",
       "      <th>70015</th>\n",
       "      <td>999984</td>\n",
       "      <td>True</td>\n",
       "    </tr>\n",
       "  </tbody>\n",
       "</table>\n",
       "<p>70016 rows × 2 columns</p>\n",
       "</div>"
      ],
      "text/plain": [
       "       satish_kodu  bonus_kart\n",
       "0           222224       False\n",
       "1           222229        True\n",
       "2           222245        True\n",
       "3           222258        True\n",
       "4           222263        True\n",
       "...            ...         ...\n",
       "70011       999935       False\n",
       "70012       999958        True\n",
       "70013       999971        True\n",
       "70014       999973       False\n",
       "70015       999984        True\n",
       "\n",
       "[70016 rows x 2 columns]"
      ]
     },
     "execution_count": 15,
     "metadata": {},
     "output_type": "execute_result"
    }
   ],
   "source": [
    "last_data"
   ]
  },
  {
   "cell_type": "code",
   "execution_count": 16,
   "metadata": {},
   "outputs": [
    {
     "data": {
      "text/html": [
       "<div>\n",
       "<style scoped>\n",
       "    .dataframe tbody tr th:only-of-type {\n",
       "        vertical-align: middle;\n",
       "    }\n",
       "\n",
       "    .dataframe tbody tr th {\n",
       "        vertical-align: top;\n",
       "    }\n",
       "\n",
       "    .dataframe thead th {\n",
       "        text-align: right;\n",
       "    }\n",
       "</style>\n",
       "<table border=\"1\" class=\"dataframe\">\n",
       "  <thead>\n",
       "    <tr style=\"text-align: right;\">\n",
       "      <th></th>\n",
       "      <th>satish_kodu</th>\n",
       "      <th>bonus_kart</th>\n",
       "    </tr>\n",
       "  </thead>\n",
       "  <tbody>\n",
       "    <tr>\n",
       "      <th>1</th>\n",
       "      <td>222229</td>\n",
       "      <td>True</td>\n",
       "    </tr>\n",
       "    <tr>\n",
       "      <th>2</th>\n",
       "      <td>222245</td>\n",
       "      <td>True</td>\n",
       "    </tr>\n",
       "    <tr>\n",
       "      <th>3</th>\n",
       "      <td>222258</td>\n",
       "      <td>True</td>\n",
       "    </tr>\n",
       "    <tr>\n",
       "      <th>4</th>\n",
       "      <td>222263</td>\n",
       "      <td>True</td>\n",
       "    </tr>\n",
       "    <tr>\n",
       "      <th>6</th>\n",
       "      <td>222274</td>\n",
       "      <td>True</td>\n",
       "    </tr>\n",
       "    <tr>\n",
       "      <th>...</th>\n",
       "      <td>...</td>\n",
       "      <td>...</td>\n",
       "    </tr>\n",
       "    <tr>\n",
       "      <th>70008</th>\n",
       "      <td>999853</td>\n",
       "      <td>True</td>\n",
       "    </tr>\n",
       "    <tr>\n",
       "      <th>70010</th>\n",
       "      <td>999912</td>\n",
       "      <td>True</td>\n",
       "    </tr>\n",
       "    <tr>\n",
       "      <th>70012</th>\n",
       "      <td>999958</td>\n",
       "      <td>True</td>\n",
       "    </tr>\n",
       "    <tr>\n",
       "      <th>70013</th>\n",
       "      <td>999971</td>\n",
       "      <td>True</td>\n",
       "    </tr>\n",
       "    <tr>\n",
       "      <th>70015</th>\n",
       "      <td>999984</td>\n",
       "      <td>True</td>\n",
       "    </tr>\n",
       "  </tbody>\n",
       "</table>\n",
       "<p>34867 rows × 2 columns</p>\n",
       "</div>"
      ],
      "text/plain": [
       "       satish_kodu  bonus_kart\n",
       "1           222229        True\n",
       "2           222245        True\n",
       "3           222258        True\n",
       "4           222263        True\n",
       "6           222274        True\n",
       "...            ...         ...\n",
       "70008       999853        True\n",
       "70010       999912        True\n",
       "70012       999958        True\n",
       "70013       999971        True\n",
       "70015       999984        True\n",
       "\n",
       "[34867 rows x 2 columns]"
      ]
     },
     "execution_count": 16,
     "metadata": {},
     "output_type": "execute_result"
    }
   ],
   "source": [
    "last_data[last_data[\"bonus_kart\"] == True]"
   ]
  },
  {
   "cell_type": "code",
   "execution_count": 17,
   "metadata": {},
   "outputs": [
    {
     "name": "stdout",
     "output_type": "stream",
     "text": [
      "Nəticə = 49.80 %\n"
     ]
    }
   ],
   "source": [
    "# bonus_kart True olanların ümumi bonus kart sayına nisbətini tapırıq\n",
    "\n",
    "print(\"Nəticə = %.2f\" % ((34867 * 100) / 70016), \"%\")"
   ]
  },
  {
   "cell_type": "code",
   "execution_count": null,
   "metadata": {},
   "outputs": [],
   "source": []
  },
  {
   "cell_type": "code",
   "execution_count": null,
   "metadata": {},
   "outputs": [],
   "source": []
  }
 ],
 "metadata": {
  "kernelspec": {
   "display_name": "Python 3",
   "language": "python",
   "name": "python3"
  },
  "language_info": {
   "codemirror_mode": {
    "name": "ipython",
    "version": 3
   },
   "file_extension": ".py",
   "mimetype": "text/x-python",
   "name": "python",
   "nbconvert_exporter": "python",
   "pygments_lexer": "ipython3",
   "version": "3.8.5"
  }
 },
 "nbformat": 4,
 "nbformat_minor": 4
}
